{
 "cells": [
  {
   "cell_type": "code",
   "execution_count": 1,
   "metadata": {},
   "outputs": [
    {
     "name": "stdout",
     "output_type": "stream",
     "text": [
      "/home/thucth/Biometrics/insightface/recognition/arcface_torch\n"
     ]
    },
    {
     "name": "stderr",
     "output_type": "stream",
     "text": [
      "/home/thucth/.local/lib/python3.8/site-packages/tqdm/auto.py:22: TqdmWarning: IProgress not found. Please update jupyter and ipywidgets. See https://ipywidgets.readthedocs.io/en/stable/user_install.html\n",
      "  from .autonotebook import tqdm as notebook_tqdm\n"
     ]
    }
   ],
   "source": [
    "%cd /home/thucth/Biometrics/insightface/recognition/arcface_torch\n",
    "\n",
    "import pickle\n",
    "from tqdm import tqdm\n",
    "import onnxruntime as ort\n",
    "import numpy as np  \n",
    "import torch\n",
    "import multiprocessing\n",
    "import pandas as pd\n",
    "import gc\n",
    "import cv2"
   ]
  },
  {
   "cell_type": "code",
   "execution_count": 2,
   "metadata": {},
   "outputs": [
    {
     "name": "stdout",
     "output_type": "stream",
     "text": [
      "enroll:  /home/thucth/Biometrics/Internal/test/hard/344523/A0005.jpg\n",
      "verify:  /home/thucth/Biometrics/Internal/test/hard/344523/B0000.jpg\n"
     ]
    }
   ],
   "source": [
    "# read data\n",
    "with open(\"/home/thucth/Biometrics/Internal/test/enroll_si.txt\", \"r\") as f:\n",
    "    paths_enroll = f.readlines()\n",
    "    paths_enroll = [x.strip().replace(\"/share/team/thucth/data/FaceReg/data_internal/NIST_Internal_TestSet\",\"/home/thucth/Biometrics/Internal/test\") for x in paths_enroll]\n",
    "\n",
    "\n",
    "with open(\"/home/thucth/Biometrics/Internal/test/verif_si.txt\", \"r\") as f:\n",
    "    paths_verify = f.readlines()\n",
    "    paths_verify = [x.strip().replace(\"/share/team/thucth/data/FaceReg/data_internal/NIST_Internal_TestSet\",\"/home/thucth/Biometrics/Internal/test\") for x in paths_verify]\n",
    "\n",
    "print(\"enroll: \", paths_enroll[2])\n",
    "print(\"verify: \", paths_verify[2])"
   ]
  },
  {
   "cell_type": "code",
   "execution_count": 3,
   "metadata": {},
   "outputs": [],
   "source": [
    "def extract_emb(paths_input:list, path_output_emb:str, infer):\n",
    "    '''\n",
    "    paths_input: paths to input images\n",
    "    path_output_emb: path to output embedding in dataframe or csv file\n",
    "    '''\n",
    "    results = []\n",
    "    for path_input in tqdm(paths_input):\n",
    "        vector = infer(path_input)\n",
    "        results.append(vector)\n",
    "    if path_output_emb:\n",
    "        pickle.dump(results, open(path_output_emb, \"wb\"))    \n",
    "    return results\n",
    "    "
   ]
  },
  {
   "cell_type": "code",
   "execution_count": 4,
   "metadata": {},
   "outputs": [
    {
     "name": "stderr",
     "output_type": "stream",
     "text": [
      " 24%|██▍       | 1191/5000 [02:15<07:14,  8.77it/s]\n"
     ]
    },
    {
     "ename": "KeyboardInterrupt",
     "evalue": "",
     "output_type": "error",
     "traceback": [
      "\u001b[0;31m---------------------------------------------------------------------------\u001b[0m",
      "\u001b[0;31mKeyboardInterrupt\u001b[0m                         Traceback (most recent call last)",
      "Cell \u001b[0;32mIn[4], line 24\u001b[0m\n\u001b[1;32m     21\u001b[0m     output \u001b[39m=\u001b[39m output\u001b[39m/\u001b[39mnp\u001b[39m.\u001b[39mlinalg\u001b[39m.\u001b[39mnorm(output)\n\u001b[1;32m     22\u001b[0m     \u001b[39mreturn\u001b[39;00m output\n\u001b[0;32m---> 24\u001b[0m _ \u001b[39m=\u001b[39m extract_emb(paths_enroll, \u001b[39m\"\u001b[39;49m\u001b[39m./emb_results_ss/enroll_emb_ss.pkl\u001b[39;49m\u001b[39m\"\u001b[39;49m, infer_ada)\n\u001b[1;32m     25\u001b[0m _ \u001b[39m=\u001b[39m extract_emb(paths_verify, \u001b[39m\"\u001b[39m\u001b[39m./emb_results_ss/verify_emb_ss.pkl\u001b[39m\u001b[39m\"\u001b[39m, infer_ada)\n\u001b[1;32m     27\u001b[0m \u001b[39m# from threading import Thread \u001b[39;00m\n\u001b[1;32m     28\u001b[0m \u001b[39m# # from multiprocessing import Process\u001b[39;00m\n\u001b[1;32m     29\u001b[0m \n\u001b[0;32m   (...)\u001b[0m\n\u001b[1;32m     32\u001b[0m \u001b[39m# p1.start()\u001b[39;00m\n\u001b[1;32m     33\u001b[0m \u001b[39m# p2.start()\u001b[39;00m\n",
      "Cell \u001b[0;32mIn[3], line 8\u001b[0m, in \u001b[0;36mextract_emb\u001b[0;34m(paths_input, path_output_emb, infer)\u001b[0m\n\u001b[1;32m      6\u001b[0m results \u001b[39m=\u001b[39m []\n\u001b[1;32m      7\u001b[0m \u001b[39mfor\u001b[39;00m path_input \u001b[39min\u001b[39;00m tqdm(paths_input):\n\u001b[0;32m----> 8\u001b[0m     vector \u001b[39m=\u001b[39m infer(path_input)\n\u001b[1;32m      9\u001b[0m     results\u001b[39m.\u001b[39mappend(vector)\n\u001b[1;32m     10\u001b[0m \u001b[39mif\u001b[39;00m path_output_emb:\n",
      "Cell \u001b[0;32mIn[4], line 20\u001b[0m, in \u001b[0;36minfer_ada\u001b[0;34m(input_path)\u001b[0m\n\u001b[1;32m     18\u001b[0m img \u001b[39m=\u001b[39m torch\u001b[39m.\u001b[39mfrom_numpy(img)\u001b[39m.\u001b[39munsqueeze(\u001b[39m0\u001b[39m)\u001b[39m.\u001b[39mfloat()\n\u001b[1;32m     19\u001b[0m img\u001b[39m.\u001b[39mdiv_(\u001b[39m255\u001b[39m)\u001b[39m.\u001b[39msub_(\u001b[39m0.5\u001b[39m)\u001b[39m.\u001b[39mdiv_(\u001b[39m0.5\u001b[39m)\n\u001b[0;32m---> 20\u001b[0m output \u001b[39m=\u001b[39m ort_sess_ada\u001b[39m.\u001b[39;49mrun(\u001b[39mNone\u001b[39;49;00m, {\u001b[39m'\u001b[39;49m\u001b[39mdata\u001b[39;49m\u001b[39m'\u001b[39;49m: img\u001b[39m.\u001b[39;49mnumpy()})[\u001b[39m0\u001b[39m]\n\u001b[1;32m     21\u001b[0m output \u001b[39m=\u001b[39m output\u001b[39m/\u001b[39mnp\u001b[39m.\u001b[39mlinalg\u001b[39m.\u001b[39mnorm(output)\n\u001b[1;32m     22\u001b[0m \u001b[39mreturn\u001b[39;00m output\n",
      "File \u001b[0;32m~/.local/lib/python3.8/site-packages/onnxruntime/capi/onnxruntime_inference_collection.py:200\u001b[0m, in \u001b[0;36mSession.run\u001b[0;34m(self, output_names, input_feed, run_options)\u001b[0m\n\u001b[1;32m    198\u001b[0m     output_names \u001b[39m=\u001b[39m [output\u001b[39m.\u001b[39mname \u001b[39mfor\u001b[39;00m output \u001b[39min\u001b[39;00m \u001b[39mself\u001b[39m\u001b[39m.\u001b[39m_outputs_meta]\n\u001b[1;32m    199\u001b[0m \u001b[39mtry\u001b[39;00m:\n\u001b[0;32m--> 200\u001b[0m     \u001b[39mreturn\u001b[39;00m \u001b[39mself\u001b[39;49m\u001b[39m.\u001b[39;49m_sess\u001b[39m.\u001b[39;49mrun(output_names, input_feed, run_options)\n\u001b[1;32m    201\u001b[0m \u001b[39mexcept\u001b[39;00m C\u001b[39m.\u001b[39mEPFail \u001b[39mas\u001b[39;00m err:\n\u001b[1;32m    202\u001b[0m     \u001b[39mif\u001b[39;00m \u001b[39mself\u001b[39m\u001b[39m.\u001b[39m_enable_fallback:\n",
      "\u001b[0;31mKeyboardInterrupt\u001b[0m: "
     ]
    }
   ],
   "source": [
    "### Adaface finetune\n",
    "sess_options = ort.SessionOptions()\n",
    "sess_options.intra_op_num_threads = 6\n",
    "\n",
    "ort_sess_ada = ort.InferenceSession('/home/thucth/Biometrics/insightface/recognition/arcface_torch/work_dirs/finetune_10epoch_lr006/model_4.onnx', \\\n",
    "                                providers=['CPUExecutionProvider'], \\\n",
    "                                sess_options=sess_options)\n",
    "\n",
    "def infer_ada(input_path):\n",
    "    if input_path is None:\n",
    "        img = np.random.randint(0, 255, size=(112, 112, 3), dtype=np.uint8)\n",
    "    else:\n",
    "        img = cv2.imread(input_path)\n",
    "        assert img.shape[1] == 112\n",
    "\n",
    "    img = cv2.cvtColor(img, cv2.COLOR_BGR2RGB)\n",
    "    img = np.transpose(img, (2, 0, 1))\n",
    "    img = torch.from_numpy(img).unsqueeze(0).float()\n",
    "    img.div_(255).sub_(0.5).div_(0.5)\n",
    "    output = ort_sess_ada.run(None, {'data': img.numpy()})[0]\n",
    "    output = output/np.linalg.norm(output)\n",
    "    return output\n",
    "\n",
    "_ = extract_emb(paths_enroll, \"./emb_results_ss/enroll_emb_ss.pkl\", infer_ada)\n",
    "_ = extract_emb(paths_verify, \"./emb_results_ss/verify_emb_ss.pkl\", infer_ada)\n",
    "\n",
    "# from threading import Thread \n",
    "# # from multiprocessing import Process\n",
    "\n",
    "# p1 = Thread(target=extract_emb, args=(paths_enroll, \"./emb_results_ss/finetune4/enroll_emb_ss.pkl\", infer_ada))\n",
    "# p2 = Thread(target=extract_emb, args=(paths_verify, \"./emb_results_ss/finetune4/verify_emb_ss.pkl\", infer_ada))\n",
    "# p1.start()\n",
    "# p2.start()\n"
   ]
  },
  {
   "cell_type": "code",
   "execution_count": null,
   "metadata": {},
   "outputs": [],
   "source": [
    "enroll_embs = pickle.load(open(\"./emb_results_ss/adafinetune/enroll_emb_ss.pkl\", \"rb\"))\n",
    "verify_embs = pickle.load(open(\"./emb_results_ss/adafinetune/verify_emb_ss.pkl\", \"rb\"))\n"
   ]
  },
  {
   "cell_type": "code",
   "execution_count": null,
   "metadata": {},
   "outputs": [],
   "source": [
    "def compute(emb1, emb2):\n",
    "    return np.sum(np.square(emb1 - emb2))"
   ]
  },
  {
   "cell_type": "code",
   "execution_count": null,
   "metadata": {},
   "outputs": [],
   "source": [
    "def show_metric(true_scores, false_scores, threshold_step=1e-6):\n",
    "    fars = [1e-6, 1e-5, 1e-4, 1e-3, 1e-2, 1e-1]\n",
    "    thresholds = list()\n",
    "    frrs = list()\n",
    "    true_scores = sorted(true_scores) #from small to large\n",
    "    false_scores = sorted(false_scores)\n",
    "\n",
    "    for index in tqdm(range(len(fars))):\n",
    "        far = fars[index]\n",
    "        cutoff_index = np.floor(len(false_scores) * far).astype(np.int64)\n",
    "        threshold = false_scores[cutoff_index] + threshold_step\n",
    "        false_reject_count = np.count_nonzero(np.array(true_scores) >= threshold)\n",
    "        frr = false_reject_count / (len(true_scores) + len(false_scores))\n",
    "        thresholds.append(threshold)\n",
    "        frrs.append(frr)\n",
    "\n",
    "    df_title = pd.DataFrame([[\"FAR\"], [\"FRR\"], [\"Threshold\"]])\n",
    "    df_output = pd.DataFrame(np.array([fars, frrs, thresholds]))\n",
    "\n",
    "    df_show = pd.concat([df_title, df_output], axis=1)\n",
    "    return df_show\n"
   ]
  },
  {
   "cell_type": "code",
   "execution_count": null,
   "metadata": {},
   "outputs": [],
   "source": [
    "import random\n",
    "random.seed(1101)\n",
    "num_pairs = len(enroll_embs)\n",
    "true_scores = []\n",
    "false_scores = []\n",
    "for i in tqdm(range(num_pairs)):\n",
    "    true_scores.append(compute(enroll_embs[i], verify_embs[i]))\n",
    "    # for j in range(num_pairs):\n",
    "    #     if i==j: continue\n",
    "    for j in np.random.choice(list(range(0,i))+list(range(i+1, num_pairs)),size=1000):\n",
    "        false_scores.append(compute(enroll_embs[i], verify_embs[j]))"
   ]
  },
  {
   "cell_type": "code",
   "execution_count": null,
   "metadata": {},
   "outputs": [],
   "source": [
    "metrics = show_metric(true_scores, false_scores)\n",
    "metrics.to_csv(\"./models/8epoch_lr008/metrics_epoch_7.csv\")"
   ]
  },
  {
   "attachments": {},
   "cell_type": "markdown",
   "metadata": {},
   "source": [
    "## Create eval bin file"
   ]
  },
  {
   "cell_type": "code",
   "execution_count": 1,
   "metadata": {},
   "outputs": [
    {
     "name": "stdout",
     "output_type": "stream",
     "text": [
      "/home/thucth/Biometrics/insightface/recognition/arcface_torch\n"
     ]
    },
    {
     "name": "stderr",
     "output_type": "stream",
     "text": [
      "usage: ipykernel_launcher.py [-h] [--data-dir DATA_DIR]\n",
      "                             [--image-size IMAGE_SIZE] [--output OUTPUT]\n",
      "ipykernel_launcher.py: error: unrecognized arguments: --ip=127.0.0.1 --stdin=9068 --control=9061 --hb=9060 --Session.signature_scheme=\"hmac-sha256\" --Session.key=b\"cf64bb25-755e-48a7-a996-5735269a1a9c\" --shell=9062 --transport=\"tcp\" --iopub=9069 --f=/home/thucth/.local/share/jupyter/runtime/kernel-v2-20011y2A8935SoOHK.json\n"
     ]
    },
    {
     "ename": "SystemExit",
     "evalue": "2",
     "output_type": "error",
     "traceback": [
      "An exception has occurred, use %tb to see the full traceback.\n",
      "\u001b[0;31mSystemExit\u001b[0m\u001b[0;31m:\u001b[0m 2\n"
     ]
    },
    {
     "name": "stderr",
     "output_type": "stream",
     "text": [
      "/home/thucth/.local/lib/python3.8/site-packages/IPython/core/interactiveshell.py:3468: UserWarning: To exit: use 'exit', 'quit', or Ctrl-D.\n",
      "  warn(\"To exit: use 'exit', 'quit', or Ctrl-D.\", stacklevel=1)\n"
     ]
    }
   ],
   "source": [
    "%cd /home/thucth/Biometrics/insightface/recognition/arcface_torch\n",
    "import mxnet as mx\n",
    "from mxnet import ndarray as nd\n",
    "import argparse\n",
    "import pickle\n",
    "import sys\n",
    "import os\n",
    "import lfw\n",
    "parser = argparse.ArgumentParser(description='Package LFW images')\n",
    "# general\n",
    "parser.add_argument('--data-dir', default='', help='')\n",
    "parser.add_argument('--image-size', type=str, default='112,96', help='')\n",
    "parser.add_argument('--output', default='', help='path to save.')\n",
    "args = parser.parse_args()\n",
    "lfw_dir = args.data_dir\n",
    "image_size = [int(x) for x in args.image_size.split(',')]\n",
    "lfw_pairs = lfw.read_pairs(os.path.join(lfw_dir, 'pairs.txt'))\n",
    "lfw_paths, issame_list = lfw.get_paths(lfw_dir, lfw_pairs, 'jpg')\n",
    "lfw_bins = []\n",
    "#lfw_data = nd.empty((len(lfw_paths), 3, image_size[0], image_size[1]))\n",
    "i = 0\n",
    "for path in lfw_paths:\n",
    "  with open(path, 'rb') as fin:\n",
    "    _bin = fin.read()\n",
    "    lfw_bins.append(_bin)\n",
    "    #img = mx.image.imdecode(_bin)\n",
    "    #img = nd.transpose(img, axes=(2, 0, 1))\n",
    "    #lfw_data[i][:] = img\n",
    "    i+=1\n",
    "    if i%1000==0:\n",
    "      print('loading lfw', i)\n",
    "\n",
    "with open(args.output, 'wb') as f:\n",
    "  pickle.dump((lfw_bins, issame_list), f, protocol=pickle.HIGHEST_PROTOCOL)\n"
   ]
  }
 ],
 "metadata": {
  "kernelspec": {
   "display_name": "AdaGNN",
   "language": "python",
   "name": "python3"
  },
  "language_info": {
   "codemirror_mode": {
    "name": "ipython",
    "version": 3
   },
   "file_extension": ".py",
   "mimetype": "text/x-python",
   "name": "python",
   "nbconvert_exporter": "python",
   "pygments_lexer": "ipython3",
   "version": "3.8.11 (default, Aug  3 2021, 15:09:35) \n[GCC 7.5.0]"
  },
  "orig_nbformat": 4,
  "vscode": {
   "interpreter": {
    "hash": "ed19da90fe8b98ad767391e6cf96a05c396c74577003f02bd727078ca69b8893"
   }
  }
 },
 "nbformat": 4,
 "nbformat_minor": 2
}
